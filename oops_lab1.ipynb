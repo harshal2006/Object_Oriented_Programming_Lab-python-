{
 "cells": [
  {
   "cell_type": "code",
   "execution_count": 1,
   "id": "e48dd401-7099-467c-91c1-76709df16a10",
   "metadata": {},
   "outputs": [
    {
     "name": "stdout",
     "output_type": "stream",
     "text": [
      "<class 'int'>\n"
     ]
    }
   ],
   "source": [
    "#wap to check the type of variable\n",
    "x=10\n",
    "print(type(x))"
   ]
  },
  {
   "cell_type": "code",
   "execution_count": 7,
   "id": "96715a54-bfc8-4e9c-b5fa-1db954a06740",
   "metadata": {
    "scrolled": true
   },
   "outputs": [
    {
     "name": "stdin",
     "output_type": "stream",
     "text": [
      "enter the first number 1\n",
      "enter the second number 2\n",
      "enter a float number 2.5\n",
      "enter your first string harshal\n",
      "enter your second string vohra\n"
     ]
    },
    {
     "name": "stdout",
     "output_type": "stream",
     "text": [
      "after adding 1 and 2 we get 3\n",
      "after adding 1 and 2.5 we get 3.5\n",
      "after adding harshal and vohra we get harshalvohra\n"
     ]
    }
   ],
   "source": [
    "#wap to add two integers, an integer and a float , two sring type variable\n",
    "num1=int(input(\"enter the first number\"))\n",
    "num2=int(input(\"enter the second number\"))\n",
    "num3=float(input(\"enter a float number\"))\n",
    "str1=input(\"enter your first string\")\n",
    "str2=input(\"enter your second string\")\n",
    "print(\"after adding\", num1 ,\"and\", num2 ,\"we get\", num1+num2)\n",
    "print(\"after adding\", num1 ,\"and\", num3 ,\"we get\", num1+num3)\n",
    "print(\"after concatinating the strings we get\", str1+str2)"
   ]
  },
  {
   "cell_type": "code",
   "execution_count": 10,
   "id": "2867075c-bcb1-4f68-9db6-0f7c1937aa6e",
   "metadata": {},
   "outputs": [
    {
     "name": "stdin",
     "output_type": "stream",
     "text": [
      "enter num1 number 2\n",
      "enter num2 number 3\n"
     ]
    },
    {
     "name": "stdout",
     "output_type": "stream",
     "text": [
      "the values after interchanging are num1 =  3 num2 =  2\n"
     ]
    }
   ],
   "source": [
    "#wap to swap two number without using a third variable\n",
    "x=int(input(\"enter num1 number\"))\n",
    "y=int(input(\"enter num2 number\"))\n",
    "x,y=y,x\n",
    "print(\"the values after interchanging are num1 = \", x,\"num2 = \",y)"
   ]
  },
  {
   "cell_type": "code",
   "execution_count": 11,
   "id": "82132e6a-79de-4c7b-967e-aca9fdb3cb3f",
   "metadata": {},
   "outputs": [
    {
     "name": "stdout",
     "output_type": "stream",
     "text": [
      "10 100 1000\n"
     ]
    }
   ],
   "source": [
    "#wap to define different way of defining variable\n",
    "swap=10\n",
    "Swap=100\n",
    "SWAP=1000\n",
    "print(swap,Swap,SWAP)"
   ]
  },
  {
   "cell_type": "code",
   "execution_count": 18,
   "id": "23ed9f5d-7257-4a95-9a11-6deb2809d46a",
   "metadata": {},
   "outputs": [
    {
     "name": "stdin",
     "output_type": "stream",
     "text": [
      "enter the first number 10\n",
      "enter the second number 2\n"
     ]
    },
    {
     "name": "stdout",
     "output_type": "stream",
     "text": [
      "after adding we get = 12\n",
      " after subtracting we get = 8 after multiplying we get = 20\n",
      " after dividing we get = 5.0 \n"
     ]
    }
   ],
   "source": [
    "#wap to do all the basic arithematic operation \n",
    "num1=int(input(\"enter the first number\"))\n",
    "num2=int(input(\"enter the second number\"))\n",
    "print(f\"after adding we get = {num1+num2}\\n after subtracting we get = {num1-num2}\\n after multiplying we get = {num1*num2}\\n after dividing we get = {num1/num2} \")"
   ]
  },
  {
   "cell_type": "code",
   "execution_count": 20,
   "id": "6b7af74e-1b76-42c5-b4aa-dc96c144a5dd",
   "metadata": {},
   "outputs": [
    {
     "name": "stdin",
     "output_type": "stream",
     "text": [
      "enter the radius of the circle 4\n"
     ]
    },
    {
     "name": "stdout",
     "output_type": "stream",
     "text": [
      "the area is = 50.256 and the circumference is = 25.128\n"
     ]
    }
   ],
   "source": [
    "#wap to calculate the area and the circumference of the circle \n",
    "r=int(input(\"enter the radius of the circle\"))\n",
    "print(f\"the area is = {3.141*r**2} and the circumference is = {3.141*r*2}\")"
   ]
  },
  {
   "cell_type": "code",
   "execution_count": null,
   "id": "de54b5bb-7ec7-4d8d-830d-0efa8ba839a4",
   "metadata": {},
   "outputs": [],
   "source": []
  }
 ],
 "metadata": {
  "kernelspec": {
   "display_name": "Python 3 (ipykernel)",
   "language": "python",
   "name": "python3"
  },
  "language_info": {
   "codemirror_mode": {
    "name": "ipython",
    "version": 3
   },
   "file_extension": ".py",
   "mimetype": "text/x-python",
   "name": "python",
   "nbconvert_exporter": "python",
   "pygments_lexer": "ipython3",
   "version": "3.13.7"
  }
 },
 "nbformat": 4,
 "nbformat_minor": 5
}
