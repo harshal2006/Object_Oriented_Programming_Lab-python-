{
 "cells": [
  {
   "cell_type": "code",
   "execution_count": null,
   "id": "abcd8d9f-73d9-453b-9715-0a17fe006582",
   "metadata": {},
   "outputs": [
    {
     "name": "stdout",
     "output_type": "stream",
     "text": [
      "enter a number  5\n"
     ]
    },
    {
     "name": "stdout",
     "output_type": "stream",
     "text": [
      "the number is odd\n"
     ]
    }
   ],
   "source": [
    "#wap to check weather a number is even or odd\n",
    "num1=int(input(\"enter a number \"))\n",
    "if num1 % 2 ==0:\n",
    "    print(\"the number is even\")\n",
    "else :\n",
    "    print(\"the number is odd\")"
   ]
  },
  {
   "cell_type": "code",
   "execution_count": null,
   "id": "a9b8de7c-0610-4068-8c62-2b1ae1afb94a",
   "metadata": {},
   "outputs": [
    {
     "name": "stdout",
     "output_type": "stream",
     "text": [
      "enter a number 0\n"
     ]
    },
    {
     "name": "stdout",
     "output_type": "stream",
     "text": [
      "the number entered is zero\n"
     ]
    }
   ],
   "source": [
    "#wap to check weather the number is positive ,negative or zero\n",
    "num1=int(input(\"enter a number\"))\n",
    "if num1 > 0:\n",
    "    print(\"the number is positive\")\n",
    "elif num1<0:\n",
    "    print(\"the number is negative\")\n",
    "else :\n",
    "    print(\"the number entered is zero\")"
   ]
  },
  {
   "cell_type": "code",
   "execution_count": null,
   "id": "b9bab11c-e5ec-42b1-abae-6184a446bd4d",
   "metadata": {},
   "outputs": [
    {
     "name": "stdout",
     "output_type": "stream",
     "text": [
      "enter thr first number 4\n",
      "enter thr second number 3\n",
      "enter thr third number 9\n"
     ]
    },
    {
     "name": "stdout",
     "output_type": "stream",
     "text": [
      "the greatest number is = 9\n"
     ]
    }
   ],
   "source": [
    "#wap to find the greatest number among the three\n",
    "num1=int(input(\"enter thr first number\"))\n",
    "num2=int(input(\"enter thr second number\"))\n",
    "num3=int(input(\"enter thr third number\"))\n",
    "if num1>num2 and num1>num3:\n",
    "    print(f\"the greatest number is = {num1}\")\n",
    "elif num2>num1 and num2 > num3 :\n",
    "    print(f\"the greatest number is = {num2}\")\n",
    "else :\n",
    "    print(f\"the greatest number is = {num3}\")\n",
    "    "
   ]
  },
  {
   "cell_type": "code",
   "execution_count": null,
   "id": "c976aa7a-9ca9-44b1-bf88-f0fada10bbd7",
   "metadata": {},
   "outputs": [
    {
     "name": "stdout",
     "output_type": "stream",
     "text": [
      "enter a year 2024\n"
     ]
    },
    {
     "name": "stdout",
     "output_type": "stream",
     "text": [
      "2024 is a leap year\n"
     ]
    }
   ],
   "source": [
    "#wap to check if the given nunber is leap year or not\n",
    "year=int(input(\"enter a year\"))\n",
    "if (year % 400 ==0) or (year % 4 ==0) and (year % 100 !=0):\n",
    "    print(f\"{year} is a leap year\")\n",
    "else:\n",
    "    print(\"not a leap year\")"
   ]
  },
  {
   "cell_type": "code",
   "execution_count": null,
   "id": "56557f10-a46f-4a5d-9366-1f6093accd55",
   "metadata": {},
   "outputs": [
    {
     "name": "stdout",
     "output_type": "stream",
     "text": [
      "enter the marks of the student 90\n"
     ]
    },
    {
     "name": "stdout",
     "output_type": "stream",
     "text": [
      "A grade\n"
     ]
    }
   ],
   "source": [
    "#wap to determine the grade of the student based on the marks\n",
    "x=int(input(\"enter the marks of the student\"))\n",
    "if x>=90:\n",
    "    print(\"A grade\")\n",
    "elif x>=80:\n",
    "    print(\"B grade\")\n",
    "elif x>=70:\n",
    "    print(\"C grade\")\n",
    "elif x>=60:\n",
    "    print(\"D grade\")\n",
    "else :\n",
    "    print(\"fail\")"
   ]
  },
  {
   "cell_type": "code",
   "execution_count": null,
   "id": "decc2324-8153-4035-a4c4-9619ee6af991",
   "metadata": {},
   "outputs": [
    {
     "name": "stdout",
     "output_type": "stream",
     "text": [
      "enter a charcter &\n"
     ]
    },
    {
     "name": "stdout",
     "output_type": "stream",
     "text": [
      "it is a special character\n"
     ]
    }
   ],
   "source": [
    "#wap to classify if a character is uppercase, lowercase or a special character\n",
    "ch=input(\"enter a charcter\")\n",
    "if ch.isupper():\n",
    "    print(\"it is uppercase\")\n",
    "elif(ch.islower()):\n",
    "    print(\"it is lowercase\")\n",
    "else :\n",
    "    print(\"it is a special character\")"
   ]
  },
  {
   "cell_type": "code",
   "execution_count": null,
   "id": "4090e302-d549-4138-9a65-11f210a8d9f6",
   "metadata": {},
   "outputs": [],
   "source": []
  }
 ],
 "metadata": {
  "kernelspec": {
   "display_name": "Python 3 (ipykernel)",
   "language": "python",
   "name": "python3"
  },
  "language_info": {
   "codemirror_mode": {
    "name": "ipython",
    "version": 3
   },
   "file_extension": ".py",
   "mimetype": "text/x-python",
   "name": "python",
   "nbconvert_exporter": "python",
   "pygments_lexer": "ipython3",
   "version": "3.13.7"
  }
 },
 "nbformat": 4,
 "nbformat_minor": 5
}
